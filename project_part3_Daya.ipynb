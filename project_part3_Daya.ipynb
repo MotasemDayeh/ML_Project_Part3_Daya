{
  "nbformat": 4,
  "nbformat_minor": 0,
  "metadata": {
    "colab": {
      "provenance": []
    },
    "kernelspec": {
      "name": "python3",
      "display_name": "Python 3"
    },
    "language_info": {
      "name": "python"
    }
  },
  "cells": [
    {
      "cell_type": "markdown",
      "source": [
        "**1: Load and Inspect the Dataset**"
      ],
      "metadata": {
        "id": "FEiP-66rbaaq"
      }
    },
    {
      "cell_type": "code",
      "execution_count": 1,
      "metadata": {
        "id": "Y_ebwF0QZCnd"
      },
      "outputs": [],
      "source": [
        "import pandas as pd\n",
        "import numpy as np\n",
        "import matplotlib.pyplot as plt\n"
      ]
    },
    {
      "cell_type": "code",
      "source": [
        "df = pd.read_csv(\"/content/Groceries_dataset.csv\")\n",
        "print(\"Data Shape:\", df.shape)\n",
        "print(df.head())\n"
      ],
      "metadata": {
        "colab": {
          "base_uri": "https://localhost:8080/"
        },
        "id": "DDkJMTUPbdLF",
        "outputId": "656e9545-91e0-4c37-e89c-57e44dd1b04d"
      },
      "execution_count": 2,
      "outputs": [
        {
          "output_type": "stream",
          "name": "stdout",
          "text": [
            "Data Shape: (38765, 3)\n",
            "   Member_number        Date   itemDescription\n",
            "0           1808  21-07-2015    tropical fruit\n",
            "1           2552  05-01-2015        whole milk\n",
            "2           2300  19-09-2015         pip fruit\n",
            "3           1187  12-12-2015  other vegetables\n",
            "4           3037  01-02-2015        whole milk\n"
          ]
        }
      ]
    },
    {
      "cell_type": "markdown",
      "source": [
        "**2: Preprocess Data**"
      ],
      "metadata": {
        "id": "9DkY4ngMb0lh"
      }
    },
    {
      "cell_type": "code",
      "source": [
        "df['Date'] = pd.to_datetime(df['Date'], dayfirst=True, errors='coerce')"
      ],
      "metadata": {
        "id": "x8kh8mTFb1WW"
      },
      "execution_count": 4,
      "outputs": []
    },
    {
      "cell_type": "markdown",
      "source": [
        "**3. Group Items by Transaction**"
      ],
      "metadata": {
        "id": "vzz1gbIidxg5"
      }
    },
    {
      "cell_type": "code",
      "source": [
        "# Combine to a single column \"TransactionID\"\n",
        "df[\"TransactionID\"] = df[\"Member_number\"].astype(str) + \"_\" + df[\"Date\"].astype(str)\n",
        "\n",
        "# Group by \"TransactionID\" to collect items\n",
        "df_grouped = df.groupby(\"TransactionID\")[\"itemDescription\"].apply(list).reset_index(name='Items')\n",
        "\n",
        "print(\"Number of unique transactions:\", df_grouped.shape[0])\n",
        "print(df_grouped.head())\n"
      ],
      "metadata": {
        "colab": {
          "base_uri": "https://localhost:8080/"
        },
        "id": "UTvM9x_Ddy_x",
        "outputId": "6eb7bcda-c3e5-4958-f9da-472aa1a60af8"
      },
      "execution_count": 5,
      "outputs": [
        {
          "output_type": "stream",
          "name": "stdout",
          "text": [
            "Number of unique transactions: 14963\n",
            "     TransactionID                                              Items\n",
            "0  1000_2014-06-24                  [whole milk, pastry, salty snack]\n",
            "1  1000_2015-03-15  [sausage, whole milk, semi-finished bread, yog...\n",
            "2  1000_2015-05-27                         [soda, pickled vegetables]\n",
            "3  1000_2015-07-24                     [canned beer, misc. beverages]\n",
            "4  1000_2015-11-25                        [sausage, hygiene articles]\n"
          ]
        }
      ]
    },
    {
      "cell_type": "markdown",
      "source": [
        "**4. Convert to Transaction List**"
      ],
      "metadata": {
        "id": "1TjfSkDBeJA2"
      }
    },
    {
      "cell_type": "code",
      "source": [
        "transactions = df_grouped[\"Items\"].tolist()\n",
        "print(f\"Example transaction: {transactions[0]}\")\n"
      ],
      "metadata": {
        "colab": {
          "base_uri": "https://localhost:8080/"
        },
        "id": "JbzhB2-OeJ7i",
        "outputId": "9ef05700-01d1-4bc0-b3c9-d24d68e51033"
      },
      "execution_count": 6,
      "outputs": [
        {
          "output_type": "stream",
          "name": "stdout",
          "text": [
            "Example transaction: ['whole milk', 'pastry', 'salty snack']\n"
          ]
        }
      ]
    },
    {
      "cell_type": "markdown",
      "source": [
        "**5.Encode the Transactions**"
      ],
      "metadata": {
        "id": "iFRAMd0NeVXa"
      }
    },
    {
      "cell_type": "code",
      "source": [
        "!pip install mlxtend  # if not installed\n",
        "from mlxtend.preprocessing import TransactionEncoder\n",
        "\n",
        "te = TransactionEncoder()\n",
        "te_array = te.fit(transactions).transform(transactions)\n",
        "df_encoded = pd.DataFrame(te_array, columns=te.columns_)\n"
      ],
      "metadata": {
        "colab": {
          "base_uri": "https://localhost:8080/"
        },
        "id": "usiHK6JMeWCa",
        "outputId": "189f1348-b1aa-41ba-c413-a6e02f31bcf0"
      },
      "execution_count": 7,
      "outputs": [
        {
          "output_type": "stream",
          "name": "stdout",
          "text": [
            "Requirement already satisfied: mlxtend in /usr/local/lib/python3.11/dist-packages (0.23.4)\n",
            "Requirement already satisfied: scipy>=1.2.1 in /usr/local/lib/python3.11/dist-packages (from mlxtend) (1.13.1)\n",
            "Requirement already satisfied: numpy>=1.16.2 in /usr/local/lib/python3.11/dist-packages (from mlxtend) (1.26.4)\n",
            "Requirement already satisfied: pandas>=0.24.2 in /usr/local/lib/python3.11/dist-packages (from mlxtend) (2.2.2)\n",
            "Requirement already satisfied: scikit-learn>=1.3.1 in /usr/local/lib/python3.11/dist-packages (from mlxtend) (1.6.1)\n",
            "Requirement already satisfied: matplotlib>=3.0.0 in /usr/local/lib/python3.11/dist-packages (from mlxtend) (3.10.0)\n",
            "Requirement already satisfied: joblib>=0.13.2 in /usr/local/lib/python3.11/dist-packages (from mlxtend) (1.4.2)\n",
            "Requirement already satisfied: contourpy>=1.0.1 in /usr/local/lib/python3.11/dist-packages (from matplotlib>=3.0.0->mlxtend) (1.3.1)\n",
            "Requirement already satisfied: cycler>=0.10 in /usr/local/lib/python3.11/dist-packages (from matplotlib>=3.0.0->mlxtend) (0.12.1)\n",
            "Requirement already satisfied: fonttools>=4.22.0 in /usr/local/lib/python3.11/dist-packages (from matplotlib>=3.0.0->mlxtend) (4.56.0)\n",
            "Requirement already satisfied: kiwisolver>=1.3.1 in /usr/local/lib/python3.11/dist-packages (from matplotlib>=3.0.0->mlxtend) (1.4.8)\n",
            "Requirement already satisfied: packaging>=20.0 in /usr/local/lib/python3.11/dist-packages (from matplotlib>=3.0.0->mlxtend) (24.2)\n",
            "Requirement already satisfied: pillow>=8 in /usr/local/lib/python3.11/dist-packages (from matplotlib>=3.0.0->mlxtend) (11.1.0)\n",
            "Requirement already satisfied: pyparsing>=2.3.1 in /usr/local/lib/python3.11/dist-packages (from matplotlib>=3.0.0->mlxtend) (3.2.1)\n",
            "Requirement already satisfied: python-dateutil>=2.7 in /usr/local/lib/python3.11/dist-packages (from matplotlib>=3.0.0->mlxtend) (2.8.2)\n",
            "Requirement already satisfied: pytz>=2020.1 in /usr/local/lib/python3.11/dist-packages (from pandas>=0.24.2->mlxtend) (2025.1)\n",
            "Requirement already satisfied: tzdata>=2022.7 in /usr/local/lib/python3.11/dist-packages (from pandas>=0.24.2->mlxtend) (2025.1)\n",
            "Requirement already satisfied: threadpoolctl>=3.1.0 in /usr/local/lib/python3.11/dist-packages (from scikit-learn>=1.3.1->mlxtend) (3.5.0)\n",
            "Requirement already satisfied: six>=1.5 in /usr/local/lib/python3.11/dist-packages (from python-dateutil>=2.7->matplotlib>=3.0.0->mlxtend) (1.17.0)\n"
          ]
        }
      ]
    },
    {
      "cell_type": "markdown",
      "source": [
        "**6. Apply Apriori to Find Frequent Itemsets**"
      ],
      "metadata": {
        "id": "ubX93y-MenyU"
      }
    },
    {
      "cell_type": "code",
      "source": [
        "from mlxtend.frequent_patterns import apriori\n",
        "\n",
        "# min_support = for example 0.01 means itemset in at least 1% of transactions\n",
        "frequent_itemsets = apriori(df_encoded, min_support=0.005, use_colnames=True)\n",
        "print(frequent_itemsets.head())\n"
      ],
      "metadata": {
        "colab": {
          "base_uri": "https://localhost:8080/"
        },
        "id": "1qmGfLkEerPI",
        "outputId": "82cb4f82-3234-44cc-fd48-a2343dfb1904"
      },
      "execution_count": 12,
      "outputs": [
        {
          "output_type": "stream",
          "name": "stdout",
          "text": [
            "    support         itemsets\n",
            "0  0.021386       (UHT-milk)\n",
            "1  0.008087  (baking powder)\n",
            "2  0.033950           (beef)\n",
            "3  0.021787        (berries)\n",
            "4  0.016574      (beverages)\n"
          ]
        }
      ]
    },
    {
      "cell_type": "markdown",
      "source": [
        "**7. Generate Association Rules**"
      ],
      "metadata": {
        "id": "iKvigUYke5xF"
      }
    },
    {
      "cell_type": "code",
      "source": [
        "from mlxtend.frequent_patterns import association_rules\n",
        "\n",
        "rules = association_rules(frequent_itemsets, metric=\"confidence\", min_threshold=0.1)\n",
        "rules.sort_values(\"confidence\", ascending=False, inplace=True)\n",
        "\n",
        "print(rules.head(10))\n"
      ],
      "metadata": {
        "colab": {
          "base_uri": "https://localhost:8080/"
        },
        "id": "R-IVz_UCe1_5",
        "outputId": "e39428a3-aec8-4aa9-f80f-7b1bc6171e06"
      },
      "execution_count": 15,
      "outputs": [
        {
          "output_type": "stream",
          "name": "stdout",
          "text": [
            "        antecedents         consequents  antecedent support  \\\n",
            "0    (bottled beer)        (whole milk)            0.045312   \n",
            "14        (sausage)        (whole milk)            0.060349   \n",
            "7      (newspapers)        (whole milk)            0.038896   \n",
            "4   (domestic eggs)        (whole milk)            0.037091   \n",
            "6     (frankfurter)        (whole milk)            0.037760   \n",
            "5     (frankfurter)  (other vegetables)            0.037760   \n",
            "11           (pork)        (whole milk)            0.037091   \n",
            "10      (pip fruit)        (whole milk)            0.049054   \n",
            "3    (citrus fruit)        (whole milk)            0.053131   \n",
            "15  (shopping bags)        (whole milk)            0.047584   \n",
            "\n",
            "    consequent support   support  confidence      lift  representativity  \\\n",
            "0             0.157923  0.007151    0.157817  0.999330               1.0   \n",
            "14            0.157923  0.008955    0.148394  0.939663               1.0   \n",
            "7             0.157923  0.005614    0.144330  0.913926               1.0   \n",
            "4             0.157923  0.005280    0.142342  0.901341               1.0   \n",
            "6             0.157923  0.005280    0.139823  0.885388               1.0   \n",
            "5             0.122101  0.005146    0.136283  1.116150               1.0   \n",
            "11            0.157923  0.005012    0.135135  0.855703               1.0   \n",
            "10            0.157923  0.006616    0.134877  0.854071               1.0   \n",
            "3             0.157923  0.007151    0.134591  0.852259               1.0   \n",
            "15            0.157923  0.006349    0.133427  0.844887               1.0   \n",
            "\n",
            "    leverage  conviction  zhangs_metric   jaccard  certainty  kulczynski  \n",
            "0  -0.000005    0.999874      -0.000702  0.036469  -0.000126    0.101549  \n",
            "14 -0.000575    0.988811      -0.063965  0.042784  -0.011316    0.102551  \n",
            "7  -0.000529    0.984114      -0.089246  0.029360  -0.016142    0.089939  \n",
            "4  -0.000578    0.981834      -0.102072  0.027827  -0.018503    0.087887  \n",
            "6  -0.000683    0.978958      -0.118576  0.027729  -0.021494    0.086628  \n",
            "5   0.000536    1.016420       0.108146  0.033261   0.016154    0.089214  \n",
            "11 -0.000845    0.973652      -0.149027  0.026381  -0.027061    0.083437  \n",
            "10 -0.001130    0.973362      -0.152310  0.033022  -0.027367    0.088387  \n",
            "3  -0.001240    0.973040      -0.154748  0.035070  -0.027707    0.089936  \n",
            "15 -0.001166    0.971732      -0.161610  0.031879  -0.029090    0.086815  \n"
          ]
        }
      ]
    },
    {
      "cell_type": "markdown",
      "source": [
        "**8. Filter & Interpret**"
      ],
      "metadata": {
        "id": "roZcqSoYfIgD"
      }
    },
    {
      "cell_type": "code",
      "source": [
        "strong_rules = rules[(rules['lift'] > 1) & (rules['confidence'] > 0.5)]\n",
        "print(\"Strong Rules with confidence > 0.5 and lift > 1:\")\n",
        "print(strong_rules)\n"
      ],
      "metadata": {
        "colab": {
          "base_uri": "https://localhost:8080/"
        },
        "id": "kvNAg9x4fJ7U",
        "outputId": "987f3b55-1e8f-42ca-f858-56407c6a0b89"
      },
      "execution_count": 18,
      "outputs": [
        {
          "output_type": "stream",
          "name": "stdout",
          "text": [
            "Strong Rules with confidence > 0.5 and lift > 1:\n",
            "Empty DataFrame\n",
            "Columns: [antecedents, consequents, antecedent support, consequent support, support, confidence, lift, representativity, leverage, conviction, zhangs_metric, jaccard, certainty, kulczynski]\n",
            "Index: []\n"
          ]
        }
      ]
    },
    {
      "cell_type": "markdown",
      "source": [
        " Part 3: we conducted association rule learning (Market Basket Analysis) on a groceries dataset. We converted raw transaction data—where each row represented a single purchase by a specific member on a certain date—into a more convenient format, grouping items by (Member_number, Date). Next, we used one-hot encoding to create a boolean matrix of items per transaction. Applying the Apriori algorithm on these encoded transactions, we discovered frequently co-occurring sets of items (frequent itemsets), and then generated association rules—e.g., “if a transaction includes item X, it often includes item Y.” Finally, we filtered and interpreted rules based on metrics like support, confidence, and lift to identify actionable insights about items commonly purchased together."
      ],
      "metadata": {
        "id": "bumxRwbunASD"
      }
    },
    {
      "cell_type": "code",
      "source": [],
      "metadata": {
        "id": "EswJFUPknCBF"
      },
      "execution_count": null,
      "outputs": []
    }
  ]
}